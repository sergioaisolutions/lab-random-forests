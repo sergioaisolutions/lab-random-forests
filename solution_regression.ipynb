{
 "cells": [
  {
   "cell_type": "markdown",
   "source": [
    "## IMPORTING THE REQUIRED LIBRARIES"
   ],
   "metadata": {}
  },
  {
   "cell_type": "code",
   "execution_count": 1,
   "source": [
    "import pandas as pd\r\n",
    "import numpy as np\r\n",
    "\r\n",
    "from sklearn.preprocessing import StandardScaler, LabelEncoder\r\n",
    "from sklearn.model_selection import train_test_split\r\n",
    "\r\n",
    "from imblearn.over_sampling import SMOTE\r\n",
    "\r\n",
    "from sklearn.ensemble import RandomForestRegressor\r\n",
    "\r\n",
    "from sklearn.metrics import r2_score, mean_absolute_error, mean_squared_error"
   ],
   "outputs": [],
   "metadata": {}
  },
  {
   "cell_type": "markdown",
   "source": [
    "## IGNORING THE WARNINGS FROM THE PANDAS LIBRARY"
   ],
   "metadata": {}
  },
  {
   "cell_type": "code",
   "execution_count": 2,
   "source": [
    "from warnings import simplefilter\r\n",
    "\r\n",
    "simplefilter(action = 'ignore', category = Warning)"
   ],
   "outputs": [],
   "metadata": {}
  },
  {
   "cell_type": "markdown",
   "source": [
    "## IMPORTING THE DATA"
   ],
   "metadata": {}
  },
  {
   "cell_type": "code",
   "execution_count": 3,
   "source": [
    "numerical = pd.read_csv('files_for_lab/numerical.csv')\r\n",
    "categorical = pd.read_csv('files_for_lab/categorical.csv')\r\n",
    "target = pd.read_csv('files_for_lab/target.csv')"
   ],
   "outputs": [],
   "metadata": {}
  },
  {
   "cell_type": "markdown",
   "source": [
    "## CONVERTING THE CATEGORICAL VALUES IN REAL OBJECTS"
   ],
   "metadata": {}
  },
  {
   "cell_type": "code",
   "execution_count": 4,
   "source": [
    "categorical = categorical.astype('object')"
   ],
   "outputs": [],
   "metadata": {}
  },
  {
   "cell_type": "markdown",
   "source": [
    "## MERGING THE NUMERICAL, CATEGORICAL AND TARGET DATAFRAMES IN A UNIQUE ONE"
   ],
   "metadata": {}
  },
  {
   "cell_type": "code",
   "execution_count": 5,
   "source": [
    "customer_churn = pd.concat([numerical, categorical, target], axis = 1)"
   ],
   "outputs": [],
   "metadata": {}
  },
  {
   "cell_type": "markdown",
   "source": [
    "## SELECTING ONLY THE USERS WITH A VALUE OF YES FOR THE TARGET_B COLUMN"
   ],
   "metadata": {}
  },
  {
   "cell_type": "code",
   "execution_count": 6,
   "source": [
    "customer_churn_yes = customer_churn[customer_churn['TARGET_B'] == 1.00].drop('TARGET_B', axis = 1)"
   ],
   "outputs": [],
   "metadata": {}
  },
  {
   "cell_type": "markdown",
   "source": [
    "## ENCODING ALL THE CATEGORICAL COLUMNS INTO NUMBERS THAT GOES FROM 0 TO THE LENGTH OF THE UNIQUE VALUES"
   ],
   "metadata": {}
  },
  {
   "cell_type": "code",
   "execution_count": 7,
   "source": [
    "categorical_columns = customer_churn_yes.select_dtypes(object).columns.tolist()\r\n",
    "\r\n",
    "for column in categorical_columns:\r\n",
    "    encoder = LabelEncoder().fit(customer_churn_yes[column])\r\n",
    "    customer_churn_yes[column] = encoder.transform(customer_churn_yes[column])"
   ],
   "outputs": [],
   "metadata": {}
  },
  {
   "cell_type": "markdown",
   "source": [
    "## PERFORMING THE X-Y TRAIN TEST SPLIT IN THE CUSTOMER DATAFRAME"
   ],
   "metadata": {}
  },
  {
   "cell_type": "code",
   "execution_count": 8,
   "source": [
    "X = customer_churn_yes.drop('TARGET_D', axis = 1)\r\n",
    "y = customer_churn_yes['TARGET_D']\r\n",
    "\r\n",
    "X_train, X_test, y_train, y_test = train_test_split(X, y, test_size = 0.20, random_state = 42)"
   ],
   "outputs": [],
   "metadata": {}
  },
  {
   "cell_type": "markdown",
   "source": [
    "## WITH RANDOM FORESTS IS NOT NECESSARY, BUT LET'S SCALE THE DATA"
   ],
   "metadata": {}
  },
  {
   "cell_type": "code",
   "execution_count": 9,
   "source": [
    "for column in X_train.columns:\r\n",
    "\r\n",
    "    if column not in categorical_columns:\r\n",
    "        \r\n",
    "        scaler = StandardScaler().fit(X_train[column].values.reshape(-1,1))\r\n",
    "        X_train[column] = scaler.transform(X_train[column].values.reshape(-1,1))\r\n",
    "        X_test[column] = scaler.transform(X_test[column].values.reshape(-1,1))"
   ],
   "outputs": [],
   "metadata": {}
  },
  {
   "cell_type": "markdown",
   "source": [
    "## TRAINING RANDOM FOREST REGRESSOR MODEL TO PREDICT THE TARGET_D"
   ],
   "metadata": {}
  },
  {
   "cell_type": "code",
   "execution_count": 10,
   "source": [
    "rf_clf = RandomForestRegressor()\r\n",
    "rf_clf.fit(X_train, y_train)"
   ],
   "outputs": [
    {
     "output_type": "execute_result",
     "data": {
      "text/plain": [
       "RandomForestRegressor()"
      ]
     },
     "metadata": {},
     "execution_count": 10
    }
   ],
   "metadata": {}
  },
  {
   "cell_type": "markdown",
   "source": [
    "# EXTRACTING AND EVALUATING THE METRICS OF THE MODEL"
   ],
   "metadata": {}
  },
  {
   "cell_type": "code",
   "execution_count": 11,
   "source": [
    "def model_metrics(model, testing_x, testing_y):\r\n",
    "\r\n",
    "    predictions = model.predict(testing_x)\r\n",
    "\r\n",
    "    r2 = r2_score(testing_y, predictions)\r\n",
    "    mae = mean_absolute_error(testing_y, predictions)\r\n",
    "    mse = mean_squared_error(testing_y, predictions)\r\n",
    "\r\n",
    "    return r2, mae, mse\r\n",
    "\r\n",
    "model_r2, model_mae, model_mse = model_metrics(rf_clf, X_test, y_test)\r\n",
    "\r\n",
    "print('\\nRANDOM FOREST REGRESSOR METRICS')\r\n",
    "print('-------------------------------\\n')\r\n",
    "\r\n",
    "print(f'- R2: {round(model_r2, 2)}')\r\n",
    "print(f'- MAE: {round(model_mae, 2)}')\r\n",
    "print(f'- MSE: {round(model_mse, 2)}')"
   ],
   "outputs": [
    {
     "output_type": "stream",
     "name": "stdout",
     "text": [
      "\n",
      "RANDOM FOREST REGRESSOR METRICS\n",
      "-------------------------------\n",
      "\n",
      "- R2: 0.44\n",
      "- MAE: 4.49\n",
      "- MSE: 82.74\n"
     ]
    }
   ],
   "metadata": {}
  },
  {
   "cell_type": "markdown",
   "source": [
    "## CONCLUSION\r\n",
    "-------------"
   ],
   "metadata": {}
  },
  {
   "cell_type": "markdown",
   "source": [
    "### THE RESULTS ARE NOT THE BEST, BUT ARE NOT BAD TOO. IT WOULD BE INTERESTING TO CREATE A DOUBLE STEP ALGORITHM TO CHECK FIRST IF THE USER IS LIKELY TO DONATE OR NOT, AND IF IT IS, HOW MUCH QUANTITY IS GOING TO DONATE."
   ],
   "metadata": {}
  }
 ],
 "metadata": {
  "orig_nbformat": 4,
  "language_info": {
   "name": "python",
   "version": "3.7.6",
   "mimetype": "text/x-python",
   "codemirror_mode": {
    "name": "ipython",
    "version": 3
   },
   "pygments_lexer": "ipython3",
   "nbconvert_exporter": "python",
   "file_extension": ".py"
  },
  "kernelspec": {
   "name": "python3",
   "display_name": "Python 3.7.6 64-bit ('ironhack_environment': venv)"
  },
  "interpreter": {
   "hash": "df81bf56b2521791aaa0ff1ac8d57256f917b61d33ad24d6b6d13191d105bbf2"
  }
 },
 "nbformat": 4,
 "nbformat_minor": 2
}
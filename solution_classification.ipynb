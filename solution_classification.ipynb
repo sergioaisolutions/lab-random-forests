{
 "cells": [
  {
   "cell_type": "markdown",
   "source": [
    "## IMPORTING THE REQUIRED LIBRARIES"
   ],
   "metadata": {}
  },
  {
   "cell_type": "code",
   "execution_count": 1,
   "source": [
    "import pandas as pd\r\n",
    "import numpy as np\r\n",
    "\r\n",
    "from sklearn.preprocessing import StandardScaler, LabelEncoder\r\n",
    "from sklearn.model_selection import train_test_split, GridSearchCV\r\n",
    "\r\n",
    "from imblearn.over_sampling import SMOTE\r\n",
    "\r\n",
    "from imblearn.ensemble import BalancedRandomForestClassifier\r\n",
    "from sklearn.ensemble import RandomForestClassifier\r\n",
    "\r\n",
    "from sklearn.metrics import accuracy_score, precision_score, recall_score, f1_score"
   ],
   "outputs": [],
   "metadata": {}
  },
  {
   "cell_type": "markdown",
   "source": [
    "## IGNORING THE WARNINGS FROM THE PANDAS LIBRARY"
   ],
   "metadata": {}
  },
  {
   "cell_type": "code",
   "execution_count": 2,
   "source": [
    "from warnings import simplefilter\r\n",
    "\r\n",
    "simplefilter(action = 'ignore', category = Warning)"
   ],
   "outputs": [],
   "metadata": {}
  },
  {
   "cell_type": "markdown",
   "source": [
    "## IMPORTING THE DATA"
   ],
   "metadata": {}
  },
  {
   "cell_type": "code",
   "execution_count": 3,
   "source": [
    "numerical = pd.read_csv('files_for_lab/numerical.csv')\r\n",
    "categorical = pd.read_csv('files_for_lab/categorical.csv')\r\n",
    "target = pd.read_csv('files_for_lab/target.csv')['TARGET_B']"
   ],
   "outputs": [],
   "metadata": {}
  },
  {
   "cell_type": "markdown",
   "source": [
    "## CONVERTING THE CATEGORICAL VALUES IN REAL OBJECTS"
   ],
   "metadata": {}
  },
  {
   "cell_type": "code",
   "execution_count": 4,
   "source": [
    "categorical = categorical.astype('object')"
   ],
   "outputs": [],
   "metadata": {}
  },
  {
   "cell_type": "markdown",
   "source": [
    "## MERGING THE NUMERICAL, CATEGORICAL AND TARGET DATAFRAMES IN A UNIQUE ONE"
   ],
   "metadata": {}
  },
  {
   "cell_type": "code",
   "execution_count": 5,
   "source": [
    "data = pd.concat([numerical, categorical, target], axis = 1)"
   ],
   "outputs": [],
   "metadata": {}
  },
  {
   "cell_type": "markdown",
   "source": [
    "## ENCODING ALL THE CATEGORICAL COLUMNS INTO NUMBERS THAT GOES FROM 0 TO THE LENGTH OF THE UNIQUE VALUES"
   ],
   "metadata": {}
  },
  {
   "cell_type": "code",
   "execution_count": 6,
   "source": [
    "categorical_columns = data.select_dtypes(object).columns.tolist()\r\n",
    "\r\n",
    "for column in categorical_columns:\r\n",
    "    encoder = LabelEncoder().fit(data[column])\r\n",
    "    data[column] = encoder.transform(data[column])"
   ],
   "outputs": [],
   "metadata": {}
  },
  {
   "cell_type": "markdown",
   "source": [
    "## PERFORMING THE X-Y TRAIN TEST SPLIT IN THE CUSTOMER DATAFRAME"
   ],
   "metadata": {}
  },
  {
   "cell_type": "code",
   "execution_count": 7,
   "source": [
    "X = data.drop('TARGET_B', axis = 1)\r\n",
    "y = data['TARGET_B']\r\n",
    "\r\n",
    "X_train, X_test, y_train, y_test = train_test_split(X, y, test_size = 0.20, random_state = 42)"
   ],
   "outputs": [],
   "metadata": {}
  },
  {
   "cell_type": "markdown",
   "source": [
    "## WITH RANDOM FORESTS IS NOT NECESSARY, BUT LET'S SCALE THE DATA"
   ],
   "metadata": {}
  },
  {
   "cell_type": "code",
   "execution_count": 8,
   "source": [
    "for column in X_train.columns:\r\n",
    "\r\n",
    "    if column not in categorical_columns:\r\n",
    "        \r\n",
    "        scaler = StandardScaler().fit(X_train[column].values.reshape(-1,1))\r\n",
    "        X_train[column] = scaler.transform(X_train[column].values.reshape(-1,1))\r\n",
    "        X_test[column] = scaler.transform(X_test[column].values.reshape(-1,1))"
   ],
   "outputs": [],
   "metadata": {}
  },
  {
   "cell_type": "markdown",
   "source": [
    "## OVERSAMPLING THE MINORITY CLASS USING THE SMOTE ALGORITHM"
   ],
   "metadata": {}
  },
  {
   "cell_type": "code",
   "execution_count": 9,
   "source": [
    "def over_sampling(training_x, training_y):\r\n",
    "\r\n",
    "    smote = SMOTE(random_state = 100, k_neighbors = 3)\r\n",
    "    X_train_SMOTE, y_train_SMOTE = smote.fit_resample(training_x, training_y)\r\n",
    "\r\n",
    "    return X_train_SMOTE, y_train_SMOTE    \r\n",
    "\r\n",
    "X_over, y_over = over_sampling(X_train, y_train)"
   ],
   "outputs": [],
   "metadata": {}
  },
  {
   "cell_type": "markdown",
   "source": [
    "## TRAINING A RANDOM FOREST CLASSIFIER WITH THE OVERSAMPLED DATA"
   ],
   "metadata": {}
  },
  {
   "cell_type": "code",
   "execution_count": 10,
   "source": [
    "rf_clf = RandomForestClassifier(n_estimators = 10)\r\n",
    "rf_clf.fit(X_over, y_over)"
   ],
   "outputs": [
    {
     "output_type": "execute_result",
     "data": {
      "text/plain": [
       "RandomForestClassifier(n_estimators=10)"
      ]
     },
     "metadata": {},
     "execution_count": 10
    }
   ],
   "metadata": {}
  },
  {
   "cell_type": "markdown",
   "source": [
    "## GETTING AND EVALUATING THE METRICS IN THE VALIDATION DATA"
   ],
   "metadata": {}
  },
  {
   "cell_type": "code",
   "execution_count": 11,
   "source": [
    "def model_metrics(model, testing_x, testing_y):\r\n",
    "\r\n",
    "    predictions = model.predict(testing_x)\r\n",
    "\r\n",
    "    accuracy = accuracy_score(testing_y, predictions)\r\n",
    "    precision = precision_score(testing_y, predictions)\r\n",
    "    recall = recall_score(testing_y, predictions)\r\n",
    "    f1 = f1_score(testing_y, predictions)\r\n",
    "\r\n",
    "    return accuracy, precision, recall, f1\r\n",
    "\r\n",
    "model_accuracy, model_precision, model_recall, model_f1 = model_metrics(rf_clf, X_test, y_test)\r\n",
    "\r\n",
    "print('\\nRANDOM FOREST METRICS - OVERSAMPLING')\r\n",
    "print('------------------------------------\\n')\r\n",
    "\r\n",
    "print(f'- Accuracy: {round(model_accuracy, 2)}')\r\n",
    "print(f'- Precision: {round(model_precision, 2)}')\r\n",
    "print(f'- Recall: {round(model_recall, 2)}')\r\n",
    "print(f'- F1: {round(model_f1, 2)}')"
   ],
   "outputs": [
    {
     "output_type": "stream",
     "name": "stdout",
     "text": [
      "\n",
      "RANDOM FOREST METRICS - OVERSAMPLING\n",
      "------------------------------------\n",
      "\n",
      "- Accuracy: 0.95\n",
      "- Precision: 0.07\n",
      "- Recall: 0.01\n",
      "- F1: 0.01\n"
     ]
    }
   ],
   "metadata": {}
  },
  {
   "cell_type": "markdown",
   "source": [
    "## IN THIS BUSINESS MODEL WE NEED TO FOCUS MORE IN THE POSITIVES, SO LET'S BALANCE THE PREDICTIONS USING A BALANCED RANDOM FOREST CLASSIFIER"
   ],
   "metadata": {}
  },
  {
   "cell_type": "code",
   "execution_count": 12,
   "source": [
    "rf_clf_blc = BalancedRandomForestClassifier(n_estimators = 10)\r\n",
    "rf_clf_blc.fit(X_train, y_train)\r\n",
    "\r\n",
    "model_accuracy_blc, model_precision_blc, model_recall_blc, model_f1_blc = model_metrics(rf_clf_blc, X_test, y_test)\r\n",
    "\r\n",
    "print('\\nRANDOM FOREST METRICS - BALANCED WEIGHT')\r\n",
    "print('---------------------------------------\\n')\r\n",
    "\r\n",
    "print(f'- Accuracy: {round(model_accuracy_blc, 2)}')\r\n",
    "print(f'- Precision: {round(model_precision_blc, 2)}')\r\n",
    "print(f'- Recall: {round(model_recall_blc, 2)}')\r\n",
    "print(f'- F1: {round(model_f1_blc, 2)}')"
   ],
   "outputs": [
    {
     "output_type": "stream",
     "name": "stdout",
     "text": [
      "\n",
      "RANDOM FOREST METRICS - BALANCED WEIGHT\n",
      "---------------------------------------\n",
      "\n",
      "- Accuracy: 0.64\n",
      "- Precision: 0.06\n",
      "- Recall: 0.42\n",
      "- F1: 0.11\n"
     ]
    }
   ],
   "metadata": {}
  },
  {
   "cell_type": "markdown",
   "source": [
    "## CONCLUSION\r\n",
    "-------------"
   ],
   "metadata": {}
  },
  {
   "cell_type": "markdown",
   "source": [
    "### THANKS TO THE BALANCED RANDOM FOREST CLASSIFIER WE HAVE ACHIEVED A MORE BALANCED RESULT, GIVING MORE IMPORTANCE TO THE POSITIVE CLASS THAN BEFORE, SO WE CAN PREDICT IN A BETTER WAY IF AN USER IS GOING TO DONATE OR NOT."
   ],
   "metadata": {}
  }
 ],
 "metadata": {
  "orig_nbformat": 4,
  "language_info": {
   "name": "python",
   "version": "3.7.6",
   "mimetype": "text/x-python",
   "codemirror_mode": {
    "name": "ipython",
    "version": 3
   },
   "pygments_lexer": "ipython3",
   "nbconvert_exporter": "python",
   "file_extension": ".py"
  },
  "kernelspec": {
   "name": "python3",
   "display_name": "Python 3.7.6 64-bit ('ironhack_environment': venv)"
  },
  "interpreter": {
   "hash": "df81bf56b2521791aaa0ff1ac8d57256f917b61d33ad24d6b6d13191d105bbf2"
  }
 },
 "nbformat": 4,
 "nbformat_minor": 2
}